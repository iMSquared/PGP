{
 "metadata": {
  "language_info": {
   "codemirror_mode": {
    "name": "ipython",
    "version": 3
   },
   "file_extension": ".py",
   "mimetype": "text/x-python",
   "name": "python",
   "nbconvert_exporter": "python",
   "pygments_lexer": "ipython3",
   "version": "3.7.10"
  },
  "orig_nbformat": 2,
  "kernelspec": {
   "name": "python3",
   "display_name": "Python 3.7.10 64-bit ('pybullet': conda)",
   "metadata": {
    "interpreter": {
     "hash": "1dcb5300f36ddfdedbc3034bafdc8c1d3c0848f4a310c0fea7ed8560a5114b12"
    }
   }
  }
 },
 "nbformat": 4,
 "nbformat_minor": 2,
 "cells": [
  {
   "cell_type": "code",
   "execution_count": null,
   "metadata": {},
   "outputs": [],
   "source": [
    "import os\n",
    "import pickle\n",
    "import numpy as np\n",
    "import matplotlib.pyplot as plt\n",
    "%matplotlib inline"
   ]
  },
  {
   "cell_type": "code",
   "execution_count": null,
   "metadata": {},
   "outputs": [],
   "source": [
    "log_dir = os.path.join(os.getcwd(), 'result/log')\n",
    "image_dir = os.path.join(os.getcwd(), 'result/image')\n",
    "ver = 'debug_sim1M_1'\n",
    "top = 5\n",
    "save = False"
   ]
  },
  {
   "cell_type": "code",
   "execution_count": null,
   "metadata": {
    "tags": []
   },
   "outputs": [],
   "source": [
    "with open(os.path.join(log_dir, f'simulation_log_{ver}.pickle'), 'rb') as f:\n",
    "    log_data = pickle.load(f)\n",
    "print(len(log_data))"
   ]
  },
  {
   "cell_type": "code",
   "execution_count": null,
   "metadata": {},
   "outputs": [],
   "source": [
    "sorted_data = sorted(log_data.items(), key=(lambda x: x[1][1]), reverse=True)\n",
    "len(sorted_data)"
   ]
  },
  {
   "cell_type": "code",
   "execution_count": null,
   "metadata": {
    "tags": []
   },
   "outputs": [],
   "source": [
    "for i in range(100):\n",
    "    print(len(sorted_data[i][1][0]), sorted_data[i][1][1])"
   ]
  },
  {
   "cell_type": "code",
   "execution_count": null,
   "metadata": {},
   "outputs": [],
   "source": [
    "num_sucess = 0\n",
    "for i in range(len(sorted_data)):\n",
    "    if len(sorted_data[i][1][0]) < 31:\n",
    "        num_sucess += 1\n",
    "        data_as_array = np.array(sorted_data[i][1][0]).T\n",
    "        plt.plot(data_as_array[0], data_as_array[1])\n",
    "print(\"num_sucess:\", num_sucess)\n",
    "# if save:\n",
    "#     plt.savefig(os.path.join(image_dir, f'simulation_path_sucess_{ver}.png'))\n",
    "# plt.show()"
   ]
  },
  {
   "cell_type": "code",
   "execution_count": null,
   "metadata": {},
   "outputs": [],
   "source": [
    "# for i in range(len(sorted_data)):\n",
    "#     data_as_array = np.array(sorted_data[i][1][0]).T\n",
    "#     plt.plot(data_as_array[0], data_as_array[1])\n",
    "# if save:\n",
    "#     plt.savefig(os.path.join(image_dir, f'simulation_path_all_{ver}.png'))\n",
    "# plt.show()"
   ]
  },
  {
   "cell_type": "code",
   "execution_count": null,
   "metadata": {},
   "outputs": [],
   "source": [
    "# for i in range(top):\n",
    "#     data_as_array = np.array(sorted_data[i][1][0]).T\n",
    "#     plt.plot(data_as_array[0], data_as_array[1])\n",
    "# if save:\n",
    "#     plt.savefig(os.path.join(image_dir, f'simulation_path_top_{top}_{ver}.png'))\n",
    "# plt.show()"
   ]
  },
  {
   "cell_type": "code",
   "execution_count": null,
   "metadata": {},
   "outputs": [],
   "source": [
    "# for i in range(len(sorted_data)):\n",
    "#     if len(sorted_data[i][1][0]) >= 3 and len(sorted_data[i][1][0]) < 4:\n",
    "#         data_as_array = np.array(sorted_data[i][1][0]).T\n",
    "#         plt.plot(data_as_array[0], data_as_array[1])\n",
    "# if save:\n",
    "#     plt.savefig(os.path.join(image_dir, f'simulation_path_3_{ver}.png'))\n",
    "# plt.show()"
   ]
  },
  {
   "cell_type": "code",
   "execution_count": null,
   "metadata": {},
   "outputs": [],
   "source": []
  }
 ]
}