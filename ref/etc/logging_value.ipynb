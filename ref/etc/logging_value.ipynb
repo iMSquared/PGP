{
 "metadata": {
  "language_info": {
   "codemirror_mode": {
    "name": "ipython",
    "version": 3
   },
   "file_extension": ".py",
   "mimetype": "text/x-python",
   "name": "python",
   "nbconvert_exporter": "python",
   "pygments_lexer": "ipython3",
   "version": "3.7.10"
  },
  "orig_nbformat": 2,
  "kernelspec": {
   "name": "python3",
   "display_name": "Python 3.7.10 64-bit ('pybullet': conda)",
   "metadata": {
    "interpreter": {
     "hash": "1dcb5300f36ddfdedbc3034bafdc8c1d3c0848f4a310c0fea7ed8560a5114b12"
    }
   }
  }
 },
 "nbformat": 4,
 "nbformat_minor": 2,
 "cells": [
  {
   "cell_type": "code",
   "execution_count": null,
   "metadata": {},
   "outputs": [],
   "source": [
    "import os\n",
    "import pickle\n",
    "import numpy as np\n",
    "import matplotlib.pyplot as plt\n",
    "\n",
    "# from POMDP_framework import *\n",
    "# from POMCP import *\n",
    "# from POMCPOW import *\n",
    "# import util\n",
    "\n",
    "%matplotlib inline"
   ]
  },
  {
   "cell_type": "code",
   "execution_count": null,
   "metadata": {},
   "outputs": [],
   "source": [
    "log_dir = os.path.join(os.getcwd(), 'result/log')\n",
    "image_dir = os.path.join(os.getcwd(), 'result/image')\n",
    "ver = 'debug_sim1M_3'\n",
    "top = 5\n",
    "save = True"
   ]
  },
  {
   "cell_type": "code",
   "execution_count": null,
   "metadata": {
    "tags": []
   },
   "outputs": [],
   "source": [
    "with open(os.path.join(log_dir, f'simulation_tree_{ver}.pickle'), 'rb') as f:\n",
    "    log_data = pickle.load(f)\n",
    "print(len(log_data))\n",
    "# print(log_data)"
   ]
  },
  {
   "cell_type": "code",
   "execution_count": null,
   "metadata": {
    "tags": []
   },
   "outputs": [],
   "source": [
    "x = []\n",
    "y = []\n",
    "v = []\n",
    "for key in log_data.keys():\n",
    "    x.append(key[0])\n",
    "    y.append(key[1])\n",
    "    v.append(log_data[key]+7)\n",
    "x = np.asarray(x)\n",
    "y = np.asarray(y)\n",
    "v = np.asarray(v)\n",
    "\n",
    "print(x)\n",
    "print(y)\n",
    "print(v)"
   ]
  },
  {
   "cell_type": "code",
   "execution_count": null,
   "metadata": {},
   "outputs": [],
   "source": [
    "plt.scatter(x, y, s=v)\n",
    "\n",
    "if save:\n",
    "    plt.savefig(os.path.join(image_dir, f'simulation_QValue_{ver}.png'))\n",
    "plt.show()"
   ]
  },
  {
   "cell_type": "code",
   "execution_count": null,
   "metadata": {},
   "outputs": [],
   "source": []
  }
 ]
}