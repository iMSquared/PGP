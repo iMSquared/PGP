{
 "metadata": {
  "language_info": {
   "codemirror_mode": {
    "name": "ipython",
    "version": 3
   },
   "file_extension": ".py",
   "mimetype": "text/x-python",
   "name": "python",
   "nbconvert_exporter": "python",
   "pygments_lexer": "ipython3",
   "version": "3.7.10"
  },
  "orig_nbformat": 2,
  "kernelspec": {
   "name": "python3",
   "display_name": "Python 3.7.10 64-bit ('pybullet': conda)",
   "metadata": {
    "interpreter": {
     "hash": "1dcb5300f36ddfdedbc3034bafdc8c1d3c0848f4a310c0fea7ed8560a5114b12"
    }
   }
  }
 },
 "nbformat": 4,
 "nbformat_minor": 2,
 "cells": [
  {
   "cell_type": "code",
   "execution_count": 6,
   "metadata": {},
   "outputs": [],
   "source": [
    "import os\n",
    "import pickle\n",
    "import numpy as np\n",
    "import matplotlib.pyplot as plt\n",
    "\n",
    "# from POMDP_framework import *\n",
    "# from POMCP import *\n",
    "# from POMCPOW import *\n",
    "# import util\n",
    "\n",
    "%matplotlib inline"
   ]
  },
  {
   "cell_type": "code",
   "execution_count": 7,
   "metadata": {},
   "outputs": [],
   "source": [
    "data_dir = os.path.join(os.getcwd(), 'result/dataset')\n",
    "# ver = 'sim100'\n",
    "# save = False"
   ]
  },
  {
   "cell_type": "code",
   "execution_count": 8,
   "metadata": {
    "tags": []
   },
   "outputs": [],
   "source": [
    "# data = []\n",
    "# with open(os.path.join(data_dir, f'{ver}/simulation_history_data_success.pickle'), 'rb') as f:\n",
    "#     try:\n",
    "#         while True:\n",
    "#             data.append(pickle.load(f))\n",
    "#     except EOFError:\n",
    "#         pass\n",
    "# print(len(data))"
   ]
  },
  {
   "cell_type": "code",
   "execution_count": 9,
   "metadata": {
    "tags": []
   },
   "outputs": [],
   "source": [
    "# for d in data:\n",
    "#     print(len(d))"
   ]
  },
  {
   "cell_type": "code",
   "execution_count": 10,
   "metadata": {},
   "outputs": [
    {
     "output_type": "stream",
     "name": "stdout",
     "text": [
      "4\n1597\n1597\n1597\n1597\n"
     ]
    }
   ],
   "source": [
    "data_dir = os.path.join(os.getcwd(), 'result/dataset')\n",
    "with open(os.path.join(data_dir, 'success_simulation_data.pickle'), 'rb') as f:\n",
    "    data = pickle.load(f)\n",
    "\n",
    "print(len(data))\n",
    "print(len(data['action']))\n",
    "print(len(data['observation']))\n",
    "print(len(data['next_state']))\n",
    "print(len(data['reward']))"
   ]
  }
 ]
}